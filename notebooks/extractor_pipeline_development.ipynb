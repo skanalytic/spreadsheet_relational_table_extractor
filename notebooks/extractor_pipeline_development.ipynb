{
 "cells": [
  {
   "cell_type": "markdown",
   "metadata": {},
   "source": [
    "# TITLE"
   ]
  },
  {
   "cell_type": "markdown",
   "metadata": {},
   "source": [
    "## Import modules"
   ]
  },
  {
   "cell_type": "code",
   "execution_count": 9,
   "metadata": {},
   "outputs": [],
   "source": [
    "import pandas as pd\n",
    "import numpy as np\n",
    "import re"
   ]
  },
  {
   "cell_type": "markdown",
   "metadata": {},
   "source": [
    "## Create per cell categorical matrix outputs"
   ]
  },
  {
   "cell_type": "code",
   "execution_count": 4,
   "metadata": {},
   "outputs": [],
   "source": [
    "raw_output_path = '../exported_annotations/cellAnnotations.csv'\n",
    "label_data = pd.read_csv(raw_output_path)"
   ]
  },
  {
   "cell_type": "code",
   "execution_count": 6,
   "metadata": {},
   "outputs": [],
   "source": [
    "simple_label_dict = {'Data':2,'Header':1,'Notes':0,'Other':0,'MetaTitle':0,'Derived':0,'GroupHead':0}\n",
    "label_data['AnnotationLabel_Simple'] = label_data['AnnotationLabel'].map(simple_label_dict)"
   ]
  },
  {
   "cell_type": "code",
   "execution_count": 7,
   "metadata": {},
   "outputs": [],
   "source": [
    "file_names = list(label_data['FileName'].unique())"
   ]
  },
  {
   "cell_type": "code",
   "execution_count": 10,
   "metadata": {},
   "outputs": [],
   "source": [
    "def column_string_to_num(s):\n",
    "    n = ord(s[-1]) - 64\n",
    "    if s[:-1]:\n",
    "        return 26 * (column_string_to_num(s[:-1])) + n\n",
    "    else:\n",
    "        return n\n",
    "\n",
    "def separate_number_chars(s):\n",
    "    res = re.split('([-+]?\\d+\\.\\d+)|([-+]?\\d+)', s.strip())\n",
    "    res_f = [r.strip() for r in res if r is not None and r.strip() != '']\n",
    "    return res_f\n",
    "\n",
    "\n",
    "# document for loop begins here \n",
    "output_data = []\n",
    "for filename in file_names[0:50]:\n",
    "    single_document = label_data[label_data['FileName'] == filename]\n",
    "    sheets = single_document['SheetName'].unique()\n",
    "    for sheet in sheets:\n",
    "        # sheet for loop begins here \n",
    "        single_document_sheet = single_document[single_document['SheetName'] == sheet]\n",
    "        \n",
    "        output_list = []\n",
    "        max_col = 0\n",
    "        max_row = 0\n",
    "        for n in range(0,len(single_document_sheet)): #should be optimized to be vectorized not for loop \n",
    "            record = single_document_sheet[['AnnotationAddress','AnnotationLabel_Simple']].iloc[n]\n",
    "            cell_ref = record['AnnotationAddress']\n",
    "            col_ref_letter = separate_number_chars(cell_ref)[0]\n",
    "            col_ref = int(column_string_to_num(col_ref_letter)) -1 #for python 0 index\n",
    "            row_ref = int(separate_number_chars(cell_ref)[1]) -1 #for python 0 index\n",
    "            label = record['AnnotationLabel_Simple']\n",
    "            output_list.append((col_ref, row_ref, label))\n",
    "            if col_ref > max_col:\n",
    "                max_col = col_ref\n",
    "            if row_ref > max_row:\n",
    "                max_row = row_ref\n",
    "                \n",
    "        label_matrix = np.zeros((max_row+1,max_col+1))\n",
    "        for col_ref,row_ref,label in output_list:\n",
    "            label_matrix[row_ref,col_ref] = label\n",
    "        output_data.append((filename,sheet,label_matrix))"
   ]
  },
  {
   "cell_type": "code",
   "execution_count": 11,
   "metadata": {},
   "outputs": [
    {
     "data": {
      "text/plain": [
       "(44, 19)"
      ]
     },
     "execution_count": 11,
     "metadata": {},
     "output_type": "execute_result"
    }
   ],
   "source": [
    "output_data[0][2].shape"
   ]
  },
  {
   "cell_type": "code",
   "execution_count": null,
   "metadata": {},
   "outputs": [],
   "source": []
  }
 ],
 "metadata": {
  "kernelspec": {
   "display_name": "py36_sk",
   "language": "python",
   "name": "py36_sk"
  },
  "language_info": {
   "codemirror_mode": {
    "name": "ipython",
    "version": 3
   },
   "file_extension": ".py",
   "mimetype": "text/x-python",
   "name": "python",
   "nbconvert_exporter": "python",
   "pygments_lexer": "ipython3",
   "version": "3.6.9"
  }
 },
 "nbformat": 4,
 "nbformat_minor": 2
}
