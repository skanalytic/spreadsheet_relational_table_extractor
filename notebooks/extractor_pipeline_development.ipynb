{
 "cells": [
  {
   "cell_type": "markdown",
   "metadata": {},
   "source": [
    "# TITLE"
   ]
  },
  {
   "cell_type": "markdown",
   "metadata": {},
   "source": [
    "## Import modules"
   ]
  },
  {
   "cell_type": "code",
   "execution_count": 1,
   "metadata": {},
   "outputs": [],
   "source": [
    "import pandas as pd\n",
    "import numpy as np\n",
    "import re"
   ]
  },
  {
   "cell_type": "markdown",
   "metadata": {},
   "source": [
    "## Create per cell categorical matrix outputs from label dataset"
   ]
  },
  {
   "cell_type": "code",
   "execution_count": 2,
   "metadata": {},
   "outputs": [],
   "source": [
    "raw_output_path = '../exported_annotations/cellAnnotations.csv'\n",
    "label_data = pd.read_csv(raw_output_path)"
   ]
  },
  {
   "cell_type": "code",
   "execution_count": 3,
   "metadata": {},
   "outputs": [],
   "source": [
    "simple_label_dict = {'Data':2,'Header':1,'Notes':0,'Other':0,'MetaTitle':0,'Derived':0,'GroupHead':0}\n",
    "label_data['AnnotationLabel_Simple'] = label_data['AnnotationLabel'].map(simple_label_dict)"
   ]
  },
  {
   "cell_type": "code",
   "execution_count": 4,
   "metadata": {},
   "outputs": [],
   "source": [
    "file_names = list(label_data['FileName'].unique())"
   ]
  },
  {
   "cell_type": "code",
   "execution_count": 5,
   "metadata": {},
   "outputs": [],
   "source": [
    "def column_string_to_num(s):\n",
    "    n = ord(s[-1]) - 64\n",
    "    if s[:-1]:\n",
    "        return 26 * (column_string_to_num(s[:-1])) + n\n",
    "    else:\n",
    "        return n\n",
    "\n",
    "def separate_number_chars(s):\n",
    "    res = re.split('([-+]?\\d+\\.\\d+)|([-+]?\\d+)', s.strip())\n",
    "    res_f = [r.strip() for r in res if r is not None and r.strip() != '']\n",
    "    return res_f\n",
    "\n",
    "\n",
    "# document for loop begins here \n",
    "output_data = []\n",
    "for filename in file_names[0:50]:\n",
    "    single_document = label_data[label_data['FileName'] == filename]\n",
    "    sheets = single_document['SheetName'].unique()\n",
    "    for sheet in sheets:\n",
    "        # sheet for loop begins here \n",
    "        single_document_sheet = single_document[single_document['SheetName'] == sheet]\n",
    "        \n",
    "        output_list = []\n",
    "        max_col = 0\n",
    "        max_row = 0\n",
    "        for n in range(0,len(single_document_sheet)): #should be optimized to be vectorized not for loop \n",
    "            record = single_document_sheet[['AnnotationAddress','AnnotationLabel_Simple']].iloc[n]\n",
    "            cell_ref = record['AnnotationAddress']\n",
    "            col_ref_letter = separate_number_chars(cell_ref)[0]\n",
    "            col_ref = int(column_string_to_num(col_ref_letter)) -1 #for python 0 index\n",
    "            row_ref = int(separate_number_chars(cell_ref)[1]) -1 #for python 0 index\n",
    "            label = record['AnnotationLabel_Simple']\n",
    "            output_list.append((col_ref, row_ref, label))\n",
    "            if col_ref > max_col:\n",
    "                max_col = col_ref\n",
    "            if row_ref > max_row:\n",
    "                max_row = row_ref\n",
    "                \n",
    "        label_matrix = np.zeros((max_row+1,max_col+1))\n",
    "        for col_ref,row_ref,label in output_list:\n",
    "            label_matrix[row_ref,col_ref] = label\n",
    "        output_data.append((filename,sheet,label_matrix))"
   ]
  },
  {
   "cell_type": "code",
   "execution_count": 6,
   "metadata": {},
   "outputs": [
    {
     "data": {
      "text/plain": [
       "(44, 19)"
      ]
     },
     "execution_count": 6,
     "metadata": {},
     "output_type": "execute_result"
    }
   ],
   "source": [
    "output_data[0][2].shape"
   ]
  },
  {
   "cell_type": "code",
   "execution_count": 7,
   "metadata": {},
   "outputs": [],
   "source": [
    "y_train = np.array([x[2] for x in output_data])"
   ]
  },
  {
   "cell_type": "code",
   "execution_count": 8,
   "metadata": {},
   "outputs": [
    {
     "data": {
      "text/plain": [
       "(44, 19)"
      ]
     },
     "execution_count": 8,
     "metadata": {},
     "output_type": "execute_result"
    }
   ],
   "source": [
    "y_train[0].shape"
   ]
  },
  {
   "cell_type": "markdown",
   "metadata": {},
   "source": [
    "## Create multi-dimensional matrix inputs from raw spreadsheet inputs"
   ]
  },
  {
   "cell_type": "code",
   "execution_count": 9,
   "metadata": {},
   "outputs": [],
   "source": [
    "def check_if_empty(y):\n",
    "    if str(y) == \"nan\":\n",
    "        return 1\n",
    "    else:\n",
    "        return 0\n",
    "\n",
    "raw_input_dir = '../dataset/completed/'\n",
    "input_data = []\n",
    "for outputs in output_data:\n",
    "    filename = outputs[0]\n",
    "    sheet = outputs[1]\n",
    "    full_file = raw_input_dir + str(filename)\n",
    "    df = pd.read_excel(full_file,header=None,sheet_name=sheet)\n",
    "    \n",
    "    raw_matrix = np.array(df)\n",
    "    #print(raw_matrix.shape)\n",
    "    \n",
    "    type_matrix = np.array([[type(y).__name__ for y in x] for x in raw_matrix])\n",
    "    #print(type_matrix.shape)\n",
    "    \n",
    "    isempty_matrix = np.array([[check_if_empty(y) for y in x] for x in raw_matrix])\n",
    "    #print(isempty_matrix.shape)\n",
    "    \n",
    "    #TODO\n",
    "    ## import openpyxl get colour and format \n",
    "    \n",
    "    input_matrix = np.dstack((raw_matrix,type_matrix,isempty_matrix))\n",
    "    input_data.append((filename,sheet,input_matrix))"
   ]
  },
  {
   "cell_type": "code",
   "execution_count": 10,
   "metadata": {},
   "outputs": [
    {
     "data": {
      "text/plain": [
       "(44, 19, 3)"
      ]
     },
     "execution_count": 10,
     "metadata": {},
     "output_type": "execute_result"
    }
   ],
   "source": [
    "input_data[0][2].shape"
   ]
  },
  {
   "cell_type": "code",
   "execution_count": 11,
   "metadata": {},
   "outputs": [],
   "source": [
    "X_all = np.array([x[2] for x in input_data])"
   ]
  },
  {
   "cell_type": "code",
   "execution_count": 12,
   "metadata": {},
   "outputs": [
    {
     "data": {
      "text/plain": [
       "(50,)"
      ]
     },
     "execution_count": 12,
     "metadata": {},
     "output_type": "execute_result"
    }
   ],
   "source": [
    "X_all.shape"
   ]
  },
  {
   "cell_type": "markdown",
   "metadata": {},
   "source": [
    "# Shallow Implimentation"
   ]
  },
  {
   "cell_type": "code",
   "execution_count": 110,
   "metadata": {},
   "outputs": [
    {
     "name": "stdout",
     "output_type": "stream",
     "text": [
      "labels 836\n",
      "df 44\n",
      "dfout 836\n",
      "labels 11028\n",
      "df 919\n",
      "dfout 11028\n",
      "labels 7289\n",
      "df 197\n",
      "dfout 7289\n",
      "labels 460\n",
      "df 46\n",
      "dfout 460\n",
      "labels 252\n",
      "df 36\n",
      "dfout 252\n",
      "labels 6870\n",
      "df 458\n",
      "dfout 6870\n",
      "labels 668\n",
      "df 167\n",
      "dfout 668\n",
      "labels 150\n",
      "df 61\n",
      "dfout 610\n",
      "issue with file ../dataset/completed/andrew_lewis__72__Exxon Gulf Coast 0401.xlsx\n",
      "labels 1345\n",
      "df 269\n",
      "dfout 1345\n",
      "labels 3707\n",
      "df 337\n",
      "dfout 3707\n",
      "labels 176\n",
      "df 22\n",
      "dfout 286\n",
      "issue with file ../dataset/completed/andrew_lewis__96__CrackSpreadOptions.xlsx\n",
      "labels 952\n",
      "df 139\n",
      "dfout 1112\n",
      "issue with file ../dataset/completed/andrew_lewis__99__10-29-01.xlsx\n",
      "labels 666\n",
      "df 37\n",
      "dfout 666\n",
      "labels 48\n",
      "df 8\n",
      "dfout 48\n",
      "labels 440\n",
      "df 40\n",
      "dfout 680\n",
      "issue with file ../dataset/completed/andy_zipper__134__ICE - Mar05 Power & Gas VOL.xlsx\n",
      "labels 1089\n",
      "df 99\n",
      "dfout 1089\n",
      "labels 225\n",
      "df 25\n",
      "dfout 225\n",
      "labels 144\n",
      "df 36\n",
      "dfout 144\n",
      "labels 198\n",
      "df 22\n",
      "dfout 198\n",
      "labels 468\n",
      "df 39\n",
      "dfout 468\n",
      "labels 231\n",
      "df 33\n",
      "dfout 231\n",
      "labels 320\n",
      "df 32\n",
      "dfout 384\n",
      "issue with file ../dataset/completed/barry_tycholiz__824__PGT LC Shippers and Calcs.xlsx\n",
      "labels 42\n",
      "df 7\n",
      "dfout 42\n",
      "labels 540\n",
      "df 36\n",
      "dfout 540\n",
      "labels 434\n",
      "df 31\n",
      "dfout 496\n",
      "issue with file ../dataset/completed/barry_tycholiz__852__Huber Value 10-11-01.xlsx\n",
      "labels 574\n",
      "df 41\n",
      "dfout 574\n",
      "labels 133\n",
      "df 19\n",
      "dfout 133\n",
      "labels 416\n",
      "df 32\n",
      "dfout 416\n",
      "labels 119\n",
      "df 17\n",
      "dfout 119\n",
      "labels 1800\n",
      "df 60\n",
      "dfout 1800\n",
      "labels 264\n",
      "df 22\n",
      "dfout 264\n",
      "labels 3575\n",
      "df 275\n",
      "dfout 4400\n",
      "issue with file ../dataset/completed/benjamin_rogers__1003__NEPOOL-ZoneG Dailies.xlsx\n",
      "labels 184\n",
      "df 46\n",
      "dfout 184\n",
      "labels 2750\n",
      "df 250\n",
      "dfout 2750\n",
      "labels 40\n",
      "df 8\n",
      "dfout 40\n",
      "labels 10150\n",
      "df 50\n",
      "dfout 10150\n",
      "labels 297\n",
      "df 27\n",
      "dfout 297\n",
      "labels 6510\n",
      "df 217\n",
      "dfout 6510\n",
      "labels 108\n",
      "df 18\n",
      "dfout 108\n",
      "labels 528\n",
      "df 48\n",
      "dfout 528\n",
      "labels 561\n",
      "df 33\n",
      "dfout 561\n",
      "labels 704\n",
      "df 32\n",
      "dfout 704\n",
      "labels 1404\n",
      "df 52\n",
      "dfout 1404\n",
      "labels 60\n",
      "df 6\n",
      "dfout 60\n",
      "labels 540\n",
      "df 135\n",
      "dfout 540\n",
      "labels 771\n",
      "df 257\n",
      "dfout 771\n",
      "labels 60\n",
      "df 10\n",
      "dfout 60\n",
      "labels 210\n",
      "df 30\n",
      "dfout 210\n",
      "labels 1752\n",
      "df 219\n",
      "dfout 1752\n",
      "labels 168\n",
      "df 28\n",
      "dfout 168\n"
     ]
    }
   ],
   "source": [
    "# each row is a cell with cell attributes \n",
    "\n",
    "dfinput = pd.DataFrame()\n",
    "\n",
    "raw_input_dir = '../dataset/completed/'\n",
    "input_data = []\n",
    "for outputs in output_data:\n",
    "    filename = outputs[0]\n",
    "    sheet = outputs[1]\n",
    "    labels = list(outputs[2].flatten())\n",
    "    print(\"labels\", len(labels))\n",
    "\n",
    "    full_file = raw_input_dir + str(filename)\n",
    "    df = pd.read_excel(full_file,header=None,sheet_name=sheet)  \n",
    "    print(\"df\", len(df))\n",
    "\n",
    "    data_list = []\n",
    "    cols = df.columns\n",
    "    for col in cols:\n",
    "        for index, row in df.iterrows():\n",
    "            value = row[cols[0]]\n",
    "            data_dict = {}\n",
    "            #data_dict['cell_value'] = value\n",
    "\n",
    "            data_dict['cell_row'] = index\n",
    "            data_dict['cell_col'] = col\n",
    "\n",
    "\n",
    "            dtype = str(type(value).__name__)\n",
    "            data_dict['cell_dtype'] = dtype\n",
    "            if str(value).lower() == 'nan':\n",
    "                data_dict['not_null'] = 0\n",
    "            else:\n",
    "                data_dict['not_null'] = 1\n",
    "            string_value = str(value)    \n",
    "            numbers = sum(c.isdigit() for c in string_value)\n",
    "            data_dict['count_numbers'] = numbers\n",
    "            letters = sum(c.isalpha() for c in string_value)\n",
    "            data_dict['count_letters'] = letters\n",
    "            spaces  = sum(c.isspace() for c in string_value)\n",
    "            data_dict['count_spaces'] = spaces\n",
    "            others  = len(s) - numbers - letters - spaces\n",
    "            data_dict['count_others'] = others\n",
    "            data_dict['prop_digits'] = numbers / len(string_value)\n",
    "            data_dict['str_length'] = len(string_value)\n",
    "            if \"%\" in string_value:\n",
    "                data_dict['contains_%'] = 1\n",
    "            else:\n",
    "                data_dict['contains_%'] = 0\n",
    "            if \".\" in string_value:\n",
    "                data_dict['contains_.'] = 1\n",
    "            else:\n",
    "                data_dict['contains_.'] = 0\n",
    "            data_list.append(data_dict) \n",
    "    dfout = pd.DataFrame(data_list)\n",
    "    dfout['cell_dtype'] = dfout['cell_dtype'].astype('category')\n",
    "    dfout['cell_dtype'] = dfout['cell_dtype'].cat.codes\n",
    "    print(\"dfout\",len(dfout))\n",
    "    try:\n",
    "        dfout['label'] = labels\n",
    "        dfinput = dfinput.append(dfout)\n",
    "    except:\n",
    "        print(\"issue with file\", full_file)"
   ]
  },
  {
   "cell_type": "code",
   "execution_count": 111,
   "metadata": {},
   "outputs": [],
   "source": [
    "from sklearn.model_selection import train_test_split"
   ]
  },
  {
   "cell_type": "code",
   "execution_count": 112,
   "metadata": {},
   "outputs": [],
   "source": [
    "X = dfinput.drop(\"label\",axis=1)\n",
    "y = dfinput['label']\n",
    "X_train, X_test, y_train, y_test = train_test_split(X, y, test_size=0.33, random_state=42)"
   ]
  },
  {
   "cell_type": "code",
   "execution_count": 113,
   "metadata": {},
   "outputs": [
    {
     "data": {
      "text/plain": [
       "cell_row         0.0\n",
       "cell_col         0.0\n",
       "cell_dtype       0.0\n",
       "not_null         0.0\n",
       "count_numbers    0.0\n",
       "count_letters    0.0\n",
       "count_spaces     0.0\n",
       "count_others     0.0\n",
       "prop_digits      0.0\n",
       "str_length       0.0\n",
       "contains_%       0.0\n",
       "contains_.       0.0\n",
       "label            0.0\n",
       "dtype: float64"
      ]
     },
     "execution_count": 113,
     "metadata": {},
     "output_type": "execute_result"
    }
   ],
   "source": [
    "dfinput.isnull().sum()/len(dfinput) * 100\n"
   ]
  },
  {
   "cell_type": "code",
   "execution_count": 114,
   "metadata": {},
   "outputs": [
    {
     "name": "stderr",
     "output_type": "stream",
     "text": [
      "/home/samuel/python_envs/anaconda3/envs/py36_sk/lib/python3.6/site-packages/sklearn/linear_model/_logistic.py:764: ConvergenceWarning: lbfgs failed to converge (status=1):\n",
      "STOP: TOTAL NO. of ITERATIONS REACHED LIMIT.\n",
      "\n",
      "Increase the number of iterations (max_iter) or scale the data as shown in:\n",
      "    https://scikit-learn.org/stable/modules/preprocessing.html\n",
      "Please also refer to the documentation for alternative solver options:\n",
      "    https://scikit-learn.org/stable/modules/linear_model.html#logistic-regression\n",
      "  extra_warning_msg=_LOGISTIC_SOLVER_CONVERGENCE_MSG)\n"
     ]
    },
    {
     "data": {
      "text/plain": [
       "LogisticRegression(random_state=0)"
      ]
     },
     "execution_count": 114,
     "metadata": {},
     "output_type": "execute_result"
    }
   ],
   "source": [
    "from sklearn.linear_model import LogisticRegression\n",
    "model = LogisticRegression(random_state=0)\n",
    "model.fit(X_train,y_train)"
   ]
  },
  {
   "cell_type": "code",
   "execution_count": 115,
   "metadata": {},
   "outputs": [],
   "source": [
    "y_pred = model.predict(X_test)"
   ]
  },
  {
   "cell_type": "code",
   "execution_count": null,
   "metadata": {},
   "outputs": [],
   "source": [
    " from sklearn.metrics import classification_report\n",
    "print(classification_report(y_true, y_pred, target_names=target_names))"
   ]
  },
  {
   "cell_type": "code",
   "execution_count": null,
   "metadata": {},
   "outputs": [],
   "source": []
  },
  {
   "cell_type": "markdown",
   "metadata": {},
   "source": [
    "## Reshape data dimensionality and pad inputs/outputs"
   ]
  },
  {
   "cell_type": "code",
   "execution_count": 434,
   "metadata": {},
   "outputs": [
    {
     "data": {
      "text/plain": [
       "<matplotlib.axes._subplots.AxesSubplot at 0x7f1ea63e6fd0>"
      ]
     },
     "execution_count": 434,
     "metadata": {},
     "output_type": "execute_result"
    },
    {
     "data": {
      "image/png": "[encoded data removed]",
      "text/plain": [
       "<Figure size 432x288 with 1 Axes>"
      ]
     },
     "metadata": {
      "needs_background": "light"
     },
     "output_type": "display_data"
    }
   ],
   "source": [
    "rowlist = []\n",
    "collist = []\n",
    "for tup in input_data:\n",
    "    rowlist.append(tup[2].shape[0])\n",
    "    collist.append(tup[2].shape[1])\n",
    "dfdim = pd.DataFrame({'rowlength':rowlist,'collength':collist})\n",
    "dfdim.plot.scatter(x='rowlength',y='collength')"
   ]
  },
  {
   "cell_type": "code",
   "execution_count": 435,
   "metadata": {},
   "outputs": [
    {
     "data": {
      "text/plain": [
       "(920, 204)"
      ]
     },
     "execution_count": 435,
     "metadata": {},
     "output_type": "execute_result"
    }
   ],
   "source": [
    "row_max = dfdim['rowlength'].max() +1 #just+1 to make even better to round up to next even to do properly\n",
    "col_max = dfdim['collength'].max() +1\n",
    "row_max,col_max"
   ]
  },
  {
   "cell_type": "code",
   "execution_count": 436,
   "metadata": {},
   "outputs": [
    {
     "data": {
      "text/plain": [
       "{'float': 1, 'Timestamp': 2, 'datetime': 3, 'NaTType': 4, 'int': 5, 'str': 6}"
      ]
     },
     "execution_count": 436,
     "metadata": {},
     "output_type": "execute_result"
    }
   ],
   "source": [
    "# Need a function that takes each 'layer' assesses its data type, creates padded matrix\n",
    "# full of the null value for that data type, adds the original values top left, and then\n",
    "# stitches all layers back together\n",
    "\n",
    "def get_categorical_mapping(X_all):\n",
    "    mapping_dict = {}\n",
    "    l = list([x[:,:,1] for x in X_all])\n",
    "    l1 = [item for sublist in l for item in sublist]\n",
    "    flat_list = [item for sublist in l1 for item in sublist]\n",
    "    unique_list = list(set(flat_list))\n",
    "    for index,value in enumerate(unique_list):\n",
    "        mapping_dict[value] = index + 1\n",
    "    return mapping_dict\n",
    "mapping_dict = get_categorical_mapping(X_all)\n",
    "mapping_dict"
   ]
  },
  {
   "cell_type": "code",
   "execution_count": 437,
   "metadata": {},
   "outputs": [],
   "source": [
    "for index,X in enumerate(X_all):\n",
    "    encoded_list = [[mapping_dict[y] for y in x] for x in X[:,:,1]]\n",
    "    encoded_matrix =np.array([np.array(xi) for xi in encoded_list])\n",
    "    X[:,:,1] = encoded_matrix\n",
    "\n",
    "\n",
    "#np.apply_along_axis(my_func, 1, X_all[0][:,:,1],mapping_dict=mapping_dict)"
   ]
  },
  {
   "cell_type": "code",
   "execution_count": 438,
   "metadata": {},
   "outputs": [],
   "source": [
    "# OK NEED TO FIGURE OUT HOW WE WANT TO REPRESENT STRINGS\n",
    "\n",
    "# num_dimensions = X_all[0].shape[2]\n",
    "\n",
    "# padded_string_matrix_list = []\n",
    "# for n in range(0,len(X_all)):\n",
    "#     print(n)\n",
    "#     empty_char_array = np.chararray((row_max,col_max),itemsize=128,unicode=False)\n",
    "#     empty_char_array[:,:] = 'nan'\n",
    "#     empty_char_array.shape\n",
    "#     empty_char_array\n",
    "#     a = X_all[n][:,:,0]\n",
    "#     empty_char_array[:a.shape[0],:a.shape[1]] = a\n",
    "#     padded_string_matrix_list.append(empty_char_array)"
   ]
  },
  {
   "cell_type": "code",
   "execution_count": 439,
   "metadata": {},
   "outputs": [],
   "source": [
    "def pad_matrix(X_all,dim):\n",
    "    padded_matrix_list = []\n",
    "    for n in range(0,len(X_all)):\n",
    "        padded_matrix = np.zeros((row_max,col_max))\n",
    "        #padded_matrix[:,:] = -1 # different default\n",
    "        a = X_all[n][:,:,dim]\n",
    "        padded_matrix[:a.shape[0],:a.shape[1]] = a\n",
    "        padded_matrix_list.append(padded_matrix)\n",
    "    padded_matrix = np.array(padded_matrix_list)\n",
    "    return padded_matrix"
   ]
  },
  {
   "cell_type": "code",
   "execution_count": 440,
   "metadata": {},
   "outputs": [],
   "source": [
    "A = pad_matrix(X_all,dim=1)"
   ]
  },
  {
   "cell_type": "code",
   "execution_count": 441,
   "metadata": {},
   "outputs": [],
   "source": [
    "B = pad_matrix(X_all,dim=2)"
   ]
  },
  {
   "cell_type": "code",
   "execution_count": 442,
   "metadata": {},
   "outputs": [
    {
     "data": {
      "text/plain": [
       "(50, 920, 204, 2)"
      ]
     },
     "execution_count": 442,
     "metadata": {},
     "output_type": "execute_result"
    }
   ],
   "source": [
    "X_all_padded = np.stack((A,B))\n",
    "X_all_padded_ordered = np.moveaxis(X_all_padded, 0, 3)\n",
    "\n",
    "X_all_padded_ordered.shape"
   ]
  },
  {
   "cell_type": "code",
   "execution_count": 443,
   "metadata": {},
   "outputs": [],
   "source": [
    "X_train = X_all_padded_ordered"
   ]
  },
  {
   "cell_type": "code",
   "execution_count": 444,
   "metadata": {},
   "outputs": [
    {
     "data": {
      "text/plain": [
       "920"
      ]
     },
     "execution_count": 444,
     "metadata": {},
     "output_type": "execute_result"
    }
   ],
   "source": [
    "row_max"
   ]
  },
  {
   "cell_type": "code",
   "execution_count": 445,
   "metadata": {},
   "outputs": [],
   "source": [
    "padded_matrix_list = []\n",
    "for a in y_train:\n",
    "    padded_matrix = np.zeros((row_max,col_max))\n",
    "    padded_matrix[:a.shape[0],:a.shape[1]] = a\n",
    "    padded_matrix_list.append(padded_matrix)\n",
    "Y_all = np.array(padded_matrix_list)"
   ]
  },
  {
   "cell_type": "code",
   "execution_count": 446,
   "metadata": {},
   "outputs": [
    {
     "data": {
      "text/plain": [
       "(920, 204)"
      ]
     },
     "execution_count": 446,
     "metadata": {},
     "output_type": "execute_result"
    }
   ],
   "source": [
    "padded_matrix.shape"
   ]
  },
  {
   "cell_type": "code",
   "execution_count": 447,
   "metadata": {},
   "outputs": [],
   "source": [
    "y_train = Y_all\n",
    "y_train = y_train.reshape((50,920,204,1))"
   ]
  },
  {
   "cell_type": "code",
   "execution_count": 401,
   "metadata": {},
   "outputs": [
    {
     "data": {
      "text/plain": [
       "(50, 919, 203, 1)"
      ]
     },
     "execution_count": 401,
     "metadata": {},
     "output_type": "execute_result"
    }
   ],
   "source": [
    "y_train.shape"
   ]
  },
  {
   "cell_type": "markdown",
   "metadata": {},
   "source": [
    "## Build CNN"
   ]
  },
  {
   "cell_type": "code",
   "execution_count": 379,
   "metadata": {},
   "outputs": [
    {
     "data": {
      "text/plain": [
       "(919, 203)"
      ]
     },
     "execution_count": 379,
     "metadata": {},
     "output_type": "execute_result"
    }
   ],
   "source": [
    "row_max,col_max"
   ]
  },
  {
   "cell_type": "code",
   "execution_count": 388,
   "metadata": {},
   "outputs": [],
   "source": [
    "from keras.models import Sequential\n",
    "from keras.layers import Dense, Conv2D, Flatten\n",
    "#create model\n",
    "model = Sequential()\n",
    "#add model layers\n",
    "model.add(Conv2D(64, kernel_size=3, activation='relu', input_shape=(row_max,col_max,2)))\n",
    "model.add(Conv2D(32, kernel_size=3, activation='relu'))\n",
    "#model.add(Flatten())\n",
    "\n",
    "model.add(Dense(1, activation='softmax',input_shape = (row_max,col_max)))\n",
    "\n",
    "#compile model using accuracy to measure model performance\n",
    "model.compile(optimizer='adam', loss='categorical_crossentropy', metrics=['accuracy'])"
   ]
  },
  {
   "cell_type": "code",
   "execution_count": 389,
   "metadata": {},
   "outputs": [
    {
     "name": "stdout",
     "output_type": "stream",
     "text": [
      "Model: \"sequential_23\"\n",
      "_________________________________________________________________\n",
      "Layer (type)                 Output Shape              Param #   \n",
      "=================================================================\n",
      "conv2d_44 (Conv2D)           (None, 917, 201, 64)      1216      \n",
      "_________________________________________________________________\n",
      "conv2d_45 (Conv2D)           (None, 915, 199, 32)      18464     \n",
      "_________________________________________________________________\n",
      "dense_15 (Dense)             (None, 915, 199, 1)       33        \n",
      "=================================================================\n",
      "Total params: 19,713\n",
      "Trainable params: 19,713\n",
      "Non-trainable params: 0\n",
      "_________________________________________________________________\n"
     ]
    }
   ],
   "source": [
    "model.summary()"
   ]
  },
  {
   "cell_type": "code",
   "execution_count": 375,
   "metadata": {},
   "outputs": [
    {
     "ename": "ValueError",
     "evalue": "Error when checking target: expected dense_10 to have shape (915, 199, 1) but got array with shape (919, 203, 1)",
     "output_type": "error",
     "traceback": [
      "\u001b[0;31m---------------------------------------------------------------------------\u001b[0m",
      "\u001b[0;31mValueError\u001b[0m                                Traceback (most recent call last)",
      "\u001b[0;32m<ipython-input-375-fa9a1ac6a577>\u001b[0m in \u001b[0;36m<module>\u001b[0;34m\u001b[0m\n\u001b[0;32m----> 1\u001b[0;31m \u001b[0mmodel\u001b[0m\u001b[0;34m.\u001b[0m\u001b[0mfit\u001b[0m\u001b[0;34m(\u001b[0m\u001b[0mX_train\u001b[0m\u001b[0;34m,\u001b[0m \u001b[0my_train\u001b[0m\u001b[0;34m,\u001b[0m \u001b[0mvalidation_data\u001b[0m\u001b[0;34m=\u001b[0m\u001b[0;34m(\u001b[0m\u001b[0mX_train\u001b[0m\u001b[0;34m,\u001b[0m \u001b[0my_train\u001b[0m\u001b[0;34m)\u001b[0m\u001b[0;34m,\u001b[0m \u001b[0mepochs\u001b[0m\u001b[0;34m=\u001b[0m\u001b[0;36m3\u001b[0m\u001b[0;34m)\u001b[0m\u001b[0;34m\u001b[0m\u001b[0;34m\u001b[0m\u001b[0m\n\u001b[0m",
      "\u001b[0;32m~/python_envs/anaconda3/envs/py36_sk/lib/python3.6/site-packages/keras/engine/training.py\u001b[0m in \u001b[0;36mfit\u001b[0;34m(self, x, y, batch_size, epochs, verbose, callbacks, validation_split, validation_data, shuffle, class_weight, sample_weight, initial_epoch, steps_per_epoch, validation_steps, validation_freq, max_queue_size, workers, use_multiprocessing, **kwargs)\u001b[0m\n\u001b[1;32m   1152\u001b[0m             \u001b[0msample_weight\u001b[0m\u001b[0;34m=\u001b[0m\u001b[0msample_weight\u001b[0m\u001b[0;34m,\u001b[0m\u001b[0;34m\u001b[0m\u001b[0;34m\u001b[0m\u001b[0m\n\u001b[1;32m   1153\u001b[0m             \u001b[0mclass_weight\u001b[0m\u001b[0;34m=\u001b[0m\u001b[0mclass_weight\u001b[0m\u001b[0;34m,\u001b[0m\u001b[0;34m\u001b[0m\u001b[0;34m\u001b[0m\u001b[0m\n\u001b[0;32m-> 1154\u001b[0;31m             batch_size=batch_size)\n\u001b[0m\u001b[1;32m   1155\u001b[0m \u001b[0;34m\u001b[0m\u001b[0m\n\u001b[1;32m   1156\u001b[0m         \u001b[0;31m# Prepare validation data.\u001b[0m\u001b[0;34m\u001b[0m\u001b[0;34m\u001b[0m\u001b[0;34m\u001b[0m\u001b[0m\n",
      "\u001b[0;32m~/python_envs/anaconda3/envs/py36_sk/lib/python3.6/site-packages/keras/engine/training.py\u001b[0m in \u001b[0;36m_standardize_user_data\u001b[0;34m(self, x, y, sample_weight, class_weight, check_array_lengths, batch_size)\u001b[0m\n\u001b[1;32m    619\u001b[0m                 \u001b[0mfeed_output_shapes\u001b[0m\u001b[0;34m,\u001b[0m\u001b[0;34m\u001b[0m\u001b[0;34m\u001b[0m\u001b[0m\n\u001b[1;32m    620\u001b[0m                 \u001b[0mcheck_batch_axis\u001b[0m\u001b[0;34m=\u001b[0m\u001b[0;32mFalse\u001b[0m\u001b[0;34m,\u001b[0m  \u001b[0;31m# Don't enforce the batch size.\u001b[0m\u001b[0;34m\u001b[0m\u001b[0;34m\u001b[0m\u001b[0m\n\u001b[0;32m--> 621\u001b[0;31m                 exception_prefix='target')\n\u001b[0m\u001b[1;32m    622\u001b[0m \u001b[0;34m\u001b[0m\u001b[0m\n\u001b[1;32m    623\u001b[0m             \u001b[0;31m# Generate sample-wise weight values given the `sample_weight` and\u001b[0m\u001b[0;34m\u001b[0m\u001b[0;34m\u001b[0m\u001b[0;34m\u001b[0m\u001b[0m\n",
      "\u001b[0;32m~/python_envs/anaconda3/envs/py36_sk/lib/python3.6/site-packages/keras/engine/training_utils.py\u001b[0m in \u001b[0;36mstandardize_input_data\u001b[0;34m(data, names, shapes, check_batch_axis, exception_prefix)\u001b[0m\n\u001b[1;32m    143\u001b[0m                             \u001b[0;34m': expected '\u001b[0m \u001b[0;34m+\u001b[0m \u001b[0mnames\u001b[0m\u001b[0;34m[\u001b[0m\u001b[0mi\u001b[0m\u001b[0;34m]\u001b[0m \u001b[0;34m+\u001b[0m \u001b[0;34m' to have shape '\u001b[0m \u001b[0;34m+\u001b[0m\u001b[0;34m\u001b[0m\u001b[0;34m\u001b[0m\u001b[0m\n\u001b[1;32m    144\u001b[0m                             \u001b[0mstr\u001b[0m\u001b[0;34m(\u001b[0m\u001b[0mshape\u001b[0m\u001b[0;34m)\u001b[0m \u001b[0;34m+\u001b[0m \u001b[0;34m' but got array with shape '\u001b[0m \u001b[0;34m+\u001b[0m\u001b[0;34m\u001b[0m\u001b[0;34m\u001b[0m\u001b[0m\n\u001b[0;32m--> 145\u001b[0;31m                             str(data_shape))\n\u001b[0m\u001b[1;32m    146\u001b[0m     \u001b[0;32mreturn\u001b[0m \u001b[0mdata\u001b[0m\u001b[0;34m\u001b[0m\u001b[0;34m\u001b[0m\u001b[0m\n\u001b[1;32m    147\u001b[0m \u001b[0;34m\u001b[0m\u001b[0m\n",
      "\u001b[0;31mValueError\u001b[0m: Error when checking target: expected dense_10 to have shape (915, 199, 1) but got array with shape (919, 203, 1)"
     ]
    }
   ],
   "source": [
    "model.fit(X_train, y_train, validation_data=(X_train, y_train), epochs=3)"
   ]
  },
  {
   "cell_type": "code",
   "execution_count": null,
   "metadata": {},
   "outputs": [],
   "source": [
    "# To deal with variable input size\n",
    "\n",
    "## padding right and down to make all same size with lots of irrelevant in the bottom - \n",
    "    # kind of need to know the size of a maximum spreadhseet for this though which could kind of be anything \n",
    "    # hummm\n",
    "    \n",
    "## #input_shape=(1, None, None)\n",
    "    # None in a shape denotes a variable dimension. Note that not all layers will work with such variable \n",
    "    # dimensions, since some layers require shape information (such as Flatten)."
   ]
  },
  {
   "cell_type": "code",
   "execution_count": null,
   "metadata": {},
   "outputs": [],
   "source": [
    "# TODO\n",
    "\n",
    "# take the inputs \n",
    "# Feed them into a simple Neural Network \n",
    "# Make the output later the relevant output data (same dimensions as input)\n",
    "# Figure out how to deal with variable input lengths \n",
    "# Get it to predict the output layers 0,1,2\n",
    "# See it can overfit with perfect overfitting with simple NN architecture\n",
    "# See the real performmance with train/test set\n",
    "# Make the architeture more complex look at CNN standard architectures \n",
    "# See how good you can get the perofmrance "
   ]
  }
 ],
 "metadata": {
  "kernelspec": {
   "display_name": "py36_sk",
   "language": "python",
   "name": "py36_sk"
  },
  "language_info": {
   "codemirror_mode": {
    "name": "ipython",
    "version": 3
   },
   "file_extension": ".py",
   "mimetype": "text/x-python",
   "name": "python",
   "nbconvert_exporter": "python",
   "pygments_lexer": "ipython3",
   "version": "3.6.9"
  }
 },
 "nbformat": 4,
 "nbformat_minor": 2
}
